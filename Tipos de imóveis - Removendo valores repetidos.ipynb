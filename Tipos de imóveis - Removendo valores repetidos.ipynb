{
 "cells": [
  {
   "cell_type": "markdown",
   "id": "a483215c",
   "metadata": {},
   "source": [
    "# Relatório de Análise II"
   ]
  },
  {
   "cell_type": "markdown",
   "id": "30a8dbe2",
   "metadata": {},
   "source": [
    "## Tipos de Imóveis"
   ]
  },
  {
   "cell_type": "code",
   "execution_count": 9,
   "id": "f03f768b",
   "metadata": {},
   "outputs": [],
   "source": [
    "import pandas as pd"
   ]
  },
  {
   "cell_type": "code",
   "execution_count": 10,
   "id": "ccfc3610",
   "metadata": {},
   "outputs": [],
   "source": [
    "dados = pd.read_csv('dados/aluguel.csv', sep=';')"
   ]
  },
  {
   "cell_type": "code",
   "execution_count": 11,
   "id": "a55ae5bf",
   "metadata": {},
   "outputs": [],
   "source": [
    "tipo_imovel = dados['Tipo']"
   ]
  },
  {
   "cell_type": "code",
   "execution_count": 12,
   "id": "fe1a0405",
   "metadata": {},
   "outputs": [
    {
     "data": {
      "text/plain": [
       "pandas.core.series.Series"
      ]
     },
     "execution_count": 12,
     "metadata": {},
     "output_type": "execute_result"
    }
   ],
   "source": [
    "# Tipo Series: array unidimensional\n",
    "type(tipo_imovel)"
   ]
  },
  {
   "cell_type": "code",
   "execution_count": 13,
   "id": "5deb980c",
   "metadata": {},
   "outputs": [],
   "source": [
    "# Removendo valores repetidos, parâmetro inplace servirá para modificar a variável aplicando o método utilizado\n",
    "tipo_imovel.drop_duplicates(inplace=True)"
   ]
  },
  {
   "cell_type": "code",
   "execution_count": 14,
   "id": "f2c2a17e",
   "metadata": {},
   "outputs": [
    {
     "data": {
      "text/plain": [
       "0                          Quitinete\n",
       "1                               Casa\n",
       "2            Conjunto Comercial/Sala\n",
       "3                        Apartamento\n",
       "7                 Casa de Condomínio\n",
       "16                    Prédio Inteiro\n",
       "17                              Flat\n",
       "29                        Loja/Salão\n",
       "80           Galpão/Depósito/Armazém\n",
       "83                    Casa Comercial\n",
       "117                     Casa de Vila\n",
       "159                   Terreno Padrão\n",
       "207                      Box/Garagem\n",
       "347                             Loft\n",
       "589      Loja Shopping/ Ct Comercial\n",
       "2157                         Chácara\n",
       "3354           Loteamento/Condomínio\n",
       "4379                           Sítio\n",
       "4721                   Pousada/Chalé\n",
       "6983                          Studio\n",
       "9687                           Hotel\n",
       "23614                      Indústria\n",
       "Name: Tipo, dtype: object"
      ]
     },
     "execution_count": 14,
     "metadata": {},
     "output_type": "execute_result"
    }
   ],
   "source": [
    "tipo_imovel"
   ]
  },
  {
   "cell_type": "markdown",
   "id": "1ea68ac5",
   "metadata": {},
   "source": [
    "## Organizando a visualização"
   ]
  },
  {
   "cell_type": "code",
   "execution_count": 15,
   "id": "a87cde67",
   "metadata": {},
   "outputs": [],
   "source": [
    "# Pegar o tamanho do tipo de imóvel através do formato \n",
    "tipo_imovel_tamanho = tipo_imovel.shape[0]\n",
    "\n",
    "tipo_imovel_range_index = range(tipo_imovel_tamanho)\n",
    "\n",
    "tipo_imovel = pd.DataFrame(tipo_imovel)\n",
    "\n",
    "tipo_imovel.index = tipo_imovel_range_index\n",
    "\n",
    "tipo_imovel.columns.name = 'Id'"
   ]
  },
  {
   "cell_type": "code",
   "execution_count": 16,
   "id": "39aa5aa5",
   "metadata": {},
   "outputs": [
    {
     "data": {
      "text/html": [
       "<div>\n",
       "<style scoped>\n",
       "    .dataframe tbody tr th:only-of-type {\n",
       "        vertical-align: middle;\n",
       "    }\n",
       "\n",
       "    .dataframe tbody tr th {\n",
       "        vertical-align: top;\n",
       "    }\n",
       "\n",
       "    .dataframe thead th {\n",
       "        text-align: right;\n",
       "    }\n",
       "</style>\n",
       "<table border=\"1\" class=\"dataframe\">\n",
       "  <thead>\n",
       "    <tr style=\"text-align: right;\">\n",
       "      <th>Id</th>\n",
       "      <th>Tipo</th>\n",
       "    </tr>\n",
       "  </thead>\n",
       "  <tbody>\n",
       "    <tr>\n",
       "      <th>0</th>\n",
       "      <td>Quitinete</td>\n",
       "    </tr>\n",
       "    <tr>\n",
       "      <th>1</th>\n",
       "      <td>Casa</td>\n",
       "    </tr>\n",
       "    <tr>\n",
       "      <th>2</th>\n",
       "      <td>Conjunto Comercial/Sala</td>\n",
       "    </tr>\n",
       "    <tr>\n",
       "      <th>3</th>\n",
       "      <td>Apartamento</td>\n",
       "    </tr>\n",
       "    <tr>\n",
       "      <th>4</th>\n",
       "      <td>Casa de Condomínio</td>\n",
       "    </tr>\n",
       "    <tr>\n",
       "      <th>5</th>\n",
       "      <td>Prédio Inteiro</td>\n",
       "    </tr>\n",
       "    <tr>\n",
       "      <th>6</th>\n",
       "      <td>Flat</td>\n",
       "    </tr>\n",
       "    <tr>\n",
       "      <th>7</th>\n",
       "      <td>Loja/Salão</td>\n",
       "    </tr>\n",
       "    <tr>\n",
       "      <th>8</th>\n",
       "      <td>Galpão/Depósito/Armazém</td>\n",
       "    </tr>\n",
       "    <tr>\n",
       "      <th>9</th>\n",
       "      <td>Casa Comercial</td>\n",
       "    </tr>\n",
       "    <tr>\n",
       "      <th>10</th>\n",
       "      <td>Casa de Vila</td>\n",
       "    </tr>\n",
       "    <tr>\n",
       "      <th>11</th>\n",
       "      <td>Terreno Padrão</td>\n",
       "    </tr>\n",
       "    <tr>\n",
       "      <th>12</th>\n",
       "      <td>Box/Garagem</td>\n",
       "    </tr>\n",
       "    <tr>\n",
       "      <th>13</th>\n",
       "      <td>Loft</td>\n",
       "    </tr>\n",
       "    <tr>\n",
       "      <th>14</th>\n",
       "      <td>Loja Shopping/ Ct Comercial</td>\n",
       "    </tr>\n",
       "    <tr>\n",
       "      <th>15</th>\n",
       "      <td>Chácara</td>\n",
       "    </tr>\n",
       "    <tr>\n",
       "      <th>16</th>\n",
       "      <td>Loteamento/Condomínio</td>\n",
       "    </tr>\n",
       "    <tr>\n",
       "      <th>17</th>\n",
       "      <td>Sítio</td>\n",
       "    </tr>\n",
       "    <tr>\n",
       "      <th>18</th>\n",
       "      <td>Pousada/Chalé</td>\n",
       "    </tr>\n",
       "    <tr>\n",
       "      <th>19</th>\n",
       "      <td>Studio</td>\n",
       "    </tr>\n",
       "    <tr>\n",
       "      <th>20</th>\n",
       "      <td>Hotel</td>\n",
       "    </tr>\n",
       "    <tr>\n",
       "      <th>21</th>\n",
       "      <td>Indústria</td>\n",
       "    </tr>\n",
       "  </tbody>\n",
       "</table>\n",
       "</div>"
      ],
      "text/plain": [
       "Id                         Tipo\n",
       "0                     Quitinete\n",
       "1                          Casa\n",
       "2       Conjunto Comercial/Sala\n",
       "3                   Apartamento\n",
       "4            Casa de Condomínio\n",
       "5                Prédio Inteiro\n",
       "6                          Flat\n",
       "7                    Loja/Salão\n",
       "8       Galpão/Depósito/Armazém\n",
       "9                Casa Comercial\n",
       "10                 Casa de Vila\n",
       "11               Terreno Padrão\n",
       "12                  Box/Garagem\n",
       "13                         Loft\n",
       "14  Loja Shopping/ Ct Comercial\n",
       "15                      Chácara\n",
       "16        Loteamento/Condomínio\n",
       "17                        Sítio\n",
       "18                Pousada/Chalé\n",
       "19                       Studio\n",
       "20                        Hotel\n",
       "21                    Indústria"
      ]
     },
     "execution_count": 16,
     "metadata": {},
     "output_type": "execute_result"
    }
   ],
   "source": [
    "tipo_imovel"
   ]
  },
  {
   "cell_type": "code",
   "execution_count": null,
   "id": "2cb08a23",
   "metadata": {},
   "outputs": [],
   "source": []
  },
  {
   "cell_type": "code",
   "execution_count": null,
   "id": "bbe4ebc2",
   "metadata": {},
   "outputs": [],
   "source": []
  },
  {
   "cell_type": "code",
   "execution_count": null,
   "id": "6876de00",
   "metadata": {},
   "outputs": [],
   "source": []
  }
 ],
 "metadata": {
  "kernelspec": {
   "display_name": "Python 3 (ipykernel)",
   "language": "python",
   "name": "python3"
  },
  "language_info": {
   "codemirror_mode": {
    "name": "ipython",
    "version": 3
   },
   "file_extension": ".py",
   "mimetype": "text/x-python",
   "name": "python",
   "nbconvert_exporter": "python",
   "pygments_lexer": "ipython3",
   "version": "3.11.1"
  }
 },
 "nbformat": 4,
 "nbformat_minor": 5
}
