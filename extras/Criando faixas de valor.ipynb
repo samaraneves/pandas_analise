{
 "cells": [
  {
   "cell_type": "code",
   "execution_count": 1,
   "id": "4c5f1afb",
   "metadata": {},
   "outputs": [],
   "source": [
    "import pandas as pd"
   ]
  },
  {
   "cell_type": "code",
   "execution_count": 2,
   "id": "386dd188",
   "metadata": {},
   "outputs": [],
   "source": [
    "dados = pd.read_csv('dados/aluguel.csv',sep=';')"
   ]
  },
  {
   "cell_type": "code",
   "execution_count": 3,
   "id": "96059765",
   "metadata": {},
   "outputs": [],
   "source": [
    "# Faixas de valor\n",
    "# 1 e 2 quartos\n",
    "# 3 e 4 quartos\n",
    "# 5 e 6 quartos\n",
    "# 6 e mais quartos\n",
    "\n",
    "classes = [0, 2, 4, 6, 100]"
   ]
  },
  {
   "cell_type": "code",
   "execution_count": 4,
   "id": "07bb0fcd",
   "metadata": {},
   "outputs": [],
   "source": [
    "# Use cut quando precisar segmentar e classificar valores de dados em compartimentos.\n",
    "# Esta função também é útil para passar de uma variável contínua para uma variável categórica. \n",
    "# Por exemplo, cortar pode converter idades em grupos de faixas etárias.\n",
    "\n",
    "quartos = pd.cut(dados.Quartos, classes)"
   ]
  },
  {
   "cell_type": "code",
   "execution_count": 5,
   "id": "036c9066",
   "metadata": {},
   "outputs": [
    {
     "data": {
      "text/plain": [
       "0        (0.0, 2.0]\n",
       "1        (0.0, 2.0]\n",
       "2        (0.0, 2.0]\n",
       "3        (0.0, 2.0]\n",
       "4        (2.0, 4.0]\n",
       "            ...    \n",
       "19826    (0.0, 2.0]\n",
       "19827    (0.0, 2.0]\n",
       "19828    (0.0, 2.0]\n",
       "19829    (0.0, 2.0]\n",
       "19830           NaN\n",
       "Name: Quartos, Length: 19831, dtype: category\n",
       "Categories (4, interval[int64, right]): [(0, 2] < (2, 4] < (4, 6] < (6, 100]]"
      ]
     },
     "execution_count": 5,
     "metadata": {},
     "output_type": "execute_result"
    }
   ],
   "source": [
    "quartos"
   ]
  },
  {
   "cell_type": "code",
   "execution_count": 6,
   "id": "fd2ebced",
   "metadata": {},
   "outputs": [
    {
     "data": {
      "text/plain": [
       "(0, 2]      11074\n",
       "(2, 4]       8094\n",
       "(4, 6]        470\n",
       "(6, 100]       36\n",
       "Name: Quartos, dtype: int64"
      ]
     },
     "execution_count": 6,
     "metadata": {},
     "output_type": "execute_result"
    }
   ],
   "source": [
    "# Gerando visualização da tabela de frequência\n",
    "# O ( representa o início da contenção dos dados (Ex: a partir de 0, não contando ele)\n",
    "# O [ representa o fechamento do intervalo\n",
    "# Ex: (0.0, 2.0] o início do intervalo é a partir de 0 e termina em 2, ou seja, contemplam os números 1 e 2\n",
    "\n",
    "pd.value_counts(quartos)"
   ]
  },
  {
   "cell_type": "code",
   "execution_count": 7,
   "id": "3774f09f",
   "metadata": {},
   "outputs": [
    {
     "data": {
      "text/plain": [
       "1 - 2 quartos        11074\n",
       "3 - 4 quartos         8094\n",
       "5 - 6 quartos          470\n",
       "7 ou mais quartos       36\n",
       "Name: Quartos, dtype: int64"
      ]
     },
     "execution_count": 7,
     "metadata": {},
     "output_type": "execute_result"
    }
   ],
   "source": [
    "labels = ['1 - 2 quartos', '3 - 4 quartos', '5 - 6 quartos', '7 ou mais quartos']\n",
    "\n",
    "quartos = pd.cut(dados.Quartos, classes, labels=labels)\n",
    "\n",
    "pd.value_counts(quartos)"
   ]
  },
  {
   "cell_type": "code",
   "execution_count": 8,
   "id": "6c1dc873",
   "metadata": {},
   "outputs": [
    {
     "data": {
      "text/plain": [
       "1 - 2 quartos        11231\n",
       "3 - 4 quartos         8094\n",
       "5 - 6 quartos          470\n",
       "7 ou mais quartos       36\n",
       "Name: Quartos, dtype: int64"
      ]
     },
     "execution_count": 8,
     "metadata": {},
     "output_type": "execute_result"
    }
   ],
   "source": [
    "# Como pode ter a possibilidade de existir 0 quartos, podemos incluí-los na menor classe\n",
    "quartos = pd.cut(dados.Quartos, classes, labels=labels, include_lowest=True)\n",
    "\n",
    "pd.value_counts(quartos)"
   ]
  },
  {
   "cell_type": "code",
   "execution_count": null,
   "id": "50424afb",
   "metadata": {},
   "outputs": [],
   "source": []
  }
 ],
 "metadata": {
  "kernelspec": {
   "display_name": "Python 3 (ipykernel)",
   "language": "python",
   "name": "python3"
  },
  "language_info": {
   "codemirror_mode": {
    "name": "ipython",
    "version": 3
   },
   "file_extension": ".py",
   "mimetype": "text/x-python",
   "name": "python",
   "nbconvert_exporter": "python",
   "pygments_lexer": "ipython3",
   "version": "3.11.1"
  }
 },
 "nbformat": 4,
 "nbformat_minor": 5
}
